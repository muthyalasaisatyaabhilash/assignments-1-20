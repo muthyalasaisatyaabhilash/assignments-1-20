{
 "cells": [
  {
   "cell_type": "markdown",
   "id": "44afcc2a",
   "metadata": {},
   "source": [
    "# ASSIGNMENT -10"
   ]
  },
  {
   "cell_type": "markdown",
   "id": "68729236",
   "metadata": {},
   "source": [
    "Write a Python program to find sum of elements in list?"
   ]
  },
  {
   "cell_type": "code",
   "execution_count": 1,
   "id": "21a1676c",
   "metadata": {},
   "outputs": [
    {
     "name": "stdout",
     "output_type": "stream",
     "text": [
      "Sum of elements in the list: 15\n"
     ]
    }
   ],
   "source": [
    "def sum_of_elements(numbers):\n",
    "    result = 0\n",
    "    for number in numbers:\n",
    "        result += number\n",
    "    return result\n",
    "\n",
    "numbers = [1, 2, 3, 4, 5]\n",
    "print(\"Sum of elements in the list:\", sum_of_elements(numbers))\n"
   ]
  },
  {
   "cell_type": "markdown",
   "id": "a0cfcd1a",
   "metadata": {},
   "source": [
    "Write a Python program to Multiply all numbers in the list?"
   ]
  },
  {
   "cell_type": "code",
   "execution_count": 2,
   "id": "4ef8ec3e",
   "metadata": {},
   "outputs": [
    {
     "name": "stdout",
     "output_type": "stream",
     "text": [
      "Product of elements in the list: 120\n"
     ]
    }
   ],
   "source": [
    "def multiply_elements(numbers):\n",
    "    result = 1\n",
    "    for number in numbers:\n",
    "        result *= number\n",
    "    return result\n",
    "\n",
    "numbers = [1, 2, 3, 4, 5]\n",
    "print(\"Product of elements in the list:\", multiply_elements(numbers))\n"
   ]
  },
  {
   "cell_type": "markdown",
   "id": "b44801d9",
   "metadata": {},
   "source": [
    "Write a Python program to find smallest number in a list?"
   ]
  },
  {
   "cell_type": "code",
   "execution_count": 3,
   "id": "07468df5",
   "metadata": {},
   "outputs": [
    {
     "name": "stdout",
     "output_type": "stream",
     "text": [
      "Smallest number in the list: 1\n"
     ]
    }
   ],
   "source": [
    "def find_smallest(numbers):\n",
    "    smallest = numbers[0]\n",
    "    for number in numbers:\n",
    "        if number < smallest:\n",
    "            smallest = number\n",
    "    return smallest\n",
    "\n",
    "numbers = [3, 4, 1, 5, 2]\n",
    "print(\"Smallest number in the list:\", find_smallest(numbers))\n"
   ]
  },
  {
   "cell_type": "markdown",
   "id": "b793c063",
   "metadata": {},
   "source": [
    "Write a Python program to find largest number in a list?"
   ]
  },
  {
   "cell_type": "code",
   "execution_count": 4,
   "id": "275aaf72",
   "metadata": {},
   "outputs": [
    {
     "name": "stdout",
     "output_type": "stream",
     "text": [
      "Largest number in the list: 5\n"
     ]
    }
   ],
   "source": [
    "def find_largest(numbers):\n",
    "    largest = numbers[0]\n",
    "    for number in numbers:\n",
    "        if number > largest:\n",
    "            largest = number\n",
    "    return largest\n",
    "\n",
    "numbers = [3, 4, 1, 5, 2]\n",
    "print(\"Largest number in the list:\", find_largest(numbers))\n"
   ]
  },
  {
   "cell_type": "markdown",
   "id": "d9c2feb0",
   "metadata": {},
   "source": [
    "5. Write a Python program to find second largest number in a list?"
   ]
  },
  {
   "cell_type": "code",
   "execution_count": 6,
   "id": "cd352114",
   "metadata": {},
   "outputs": [
    {
     "name": "stdout",
     "output_type": "stream",
     "text": [
      "Second largest number in the list: 4\n"
     ]
    }
   ],
   "source": [
    "def find_second_largest(numbers):\n",
    "    largest = numbers[0]\n",
    "    second_largest = numbers[1]\n",
    "    if largest < second_largest:\n",
    "        largest, second_largest = second_largest, largest\n",
    "    for number in numbers[2:]:\n",
    "        if number > largest:\n",
    "            second_largest = largest\n",
    "            largest = number\n",
    "        elif number > second_largest:\n",
    "            second_largest = number\n",
    "    return second_largest\n",
    "\n",
    "numbers = [3, 4, 1, 5, 2]\n",
    "print(\"Second largest number in the list:\", find_second_largest(numbers))\n"
   ]
  },
  {
   "cell_type": "markdown",
   "id": "a4aad604",
   "metadata": {},
   "source": [
    "6. Write a Python program to find N largest elements from a list?"
   ]
  },
  {
   "cell_type": "code",
   "execution_count": 7,
   "id": "504b24e6",
   "metadata": {},
   "outputs": [
    {
     "name": "stdout",
     "output_type": "stream",
     "text": [
      "3 largest numbers in the list: [5, 4, 3]\n"
     ]
    }
   ],
   "source": [
    "def find_largest_numbers(numbers, n):\n",
    "    numbers.sort(reverse=True)\n",
    "    return numbers[:n]\n",
    "\n",
    "numbers = [3, 4, 1, 5, 2]\n",
    "n = 3\n",
    "print(\"{} largest numbers in the list: {}\".format(n, find_largest_numbers(numbers, n)))\n"
   ]
  },
  {
   "cell_type": "markdown",
   "id": "6ace9b90",
   "metadata": {},
   "source": [
    "7. Write a Python program to print even numbers in a list?"
   ]
  },
  {
   "cell_type": "code",
   "execution_count": 8,
   "id": "720f91d7",
   "metadata": {},
   "outputs": [
    {
     "name": "stdout",
     "output_type": "stream",
     "text": [
      "Even numbers in the list:\n",
      "4\n",
      "2\n",
      "6\n",
      "8\n",
      "10\n"
     ]
    }
   ],
   "source": [
    "def print_even_numbers(numbers):\n",
    "    for number in numbers:\n",
    "        if number % 2 == 0:\n",
    "            print(number)\n",
    "\n",
    "numbers = [3, 4, 1, 5, 2, 6, 8, 10]\n",
    "print(\"Even numbers in the list:\")\n",
    "print_even_numbers(numbers)\n"
   ]
  },
  {
   "cell_type": "markdown",
   "id": "8b463092",
   "metadata": {},
   "source": [
    "8. Write a Python program to print odd numbers in a List?"
   ]
  },
  {
   "cell_type": "code",
   "execution_count": 9,
   "id": "77417588",
   "metadata": {},
   "outputs": [
    {
     "name": "stdout",
     "output_type": "stream",
     "text": [
      "Odd numbers in the list:\n",
      "3\n",
      "1\n",
      "5\n"
     ]
    }
   ],
   "source": [
    "def print_odd_numbers(numbers):\n",
    "    for number in numbers:\n",
    "        if number % 2 != 0:\n",
    "            print(number)\n",
    "\n",
    "numbers = [3, 4, 1, 5, 2, 6, 8, 10]\n",
    "print(\"Odd numbers in the list:\")\n",
    "print_odd_numbers(numbers)\n"
   ]
  },
  {
   "cell_type": "markdown",
   "id": "29826441",
   "metadata": {},
   "source": [
    "9. Write a Python program to Remove empty List from List?"
   ]
  },
  {
   "cell_type": "code",
   "execution_count": 10,
   "id": "5defc312",
   "metadata": {},
   "outputs": [
    {
     "name": "stdout",
     "output_type": "stream",
     "text": [
      "List of lists after removing empty lists: [[1, 2, 3], [4, 5]]\n"
     ]
    }
   ],
   "source": [
    "def remove_empty_lists(lists):\n",
    "    return [list for list in lists if list]\n",
    "\n",
    "lists = [[], [1, 2, 3], [], [4, 5], [], []]\n",
    "print(\"List of lists after removing empty lists:\", remove_empty_lists(lists))\n",
    "\n"
   ]
  },
  {
   "cell_type": "markdown",
   "id": "795e97f4",
   "metadata": {},
   "source": [
    "10. Write a Python program to Cloning or Copying a list?"
   ]
  },
  {
   "cell_type": "code",
   "execution_count": 11,
   "id": "0d41a852",
   "metadata": {},
   "outputs": [
    {
     "name": "stdout",
     "output_type": "stream",
     "text": [
      "Original list: [1, 2, 3, 4, 5]\n",
      "Cloned list: [1, 2, 3, 4, 5]\n"
     ]
    }
   ],
   "source": [
    "import copy\n",
    "\n",
    "def clone_list(original_list):\n",
    "    return copy.copy(original_list)\n",
    "\n",
    "original_list = [1, 2, 3, 4, 5]\n",
    "cloned_list = clone_list(original_list)\n",
    "\n",
    "print(\"Original list:\", original_list)\n",
    "print(\"Cloned list:\", cloned_list)\n"
   ]
  },
  {
   "cell_type": "markdown",
   "id": "f9d0e15b",
   "metadata": {},
   "source": [
    "11. Write a Python program to Count occurrences of an element in a list?"
   ]
  },
  {
   "cell_type": "code",
   "execution_count": 12,
   "id": "ce298d0f",
   "metadata": {},
   "outputs": [
    {
     "name": "stdout",
     "output_type": "stream",
     "text": [
      "The number 1 occurs 3 times in the list\n"
     ]
    }
   ],
   "source": [
    "def count_occurrences(numbers, target):\n",
    "    return numbers.count(target)\n",
    "\n",
    "numbers = [1, 2, 3, 4, 5, 1, 2, 1]\n",
    "target = 1\n",
    "occurrences = count_occurrences(numbers, target)\n",
    "\n",
    "print(\"The number {} occurs {} times in the list\".format(target, occurrences))\n"
   ]
  },
  {
   "cell_type": "code",
   "execution_count": null,
   "id": "bc007e3a",
   "metadata": {},
   "outputs": [],
   "source": []
  }
 ],
 "metadata": {
  "kernelspec": {
   "display_name": "Python 3 (ipykernel)",
   "language": "python",
   "name": "python3"
  },
  "language_info": {
   "codemirror_mode": {
    "name": "ipython",
    "version": 3
   },
   "file_extension": ".py",
   "mimetype": "text/x-python",
   "name": "python",
   "nbconvert_exporter": "python",
   "pygments_lexer": "ipython3",
   "version": "3.11.1"
  }
 },
 "nbformat": 4,
 "nbformat_minor": 5
}
