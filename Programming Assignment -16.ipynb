{
 "cells": [
  {
   "cell_type": "code",
   "execution_count": 1,
   "id": "cfa9210d",
   "metadata": {},
   "outputs": [],
   "source": [
    "#1)\n",
    "\n",
    "def stutter(word):\n",
    "    return word[:2] + \"... \" + word[:2] + \"... \" + word + \"?\"\n"
   ]
  },
  {
   "cell_type": "code",
   "execution_count": 3,
   "id": "a1c755a4",
   "metadata": {},
   "outputs": [
    {
     "data": {
      "text/plain": [
       "'ab... ab... abhilas satya?'"
      ]
     },
     "execution_count": 3,
     "metadata": {},
     "output_type": "execute_result"
    }
   ],
   "source": [
    "stutter(\"abhilas satya\")"
   ]
  },
  {
   "cell_type": "code",
   "execution_count": 4,
   "id": "780b4459",
   "metadata": {},
   "outputs": [],
   "source": [
    "#2)\n",
    "\n",
    "import math\n",
    "\n",
    "def radians_to_degrees(radians):\n",
    "    return round(math.degrees(radians), 1)\n"
   ]
  },
  {
   "cell_type": "code",
   "execution_count": 5,
   "id": "c90ad32a",
   "metadata": {},
   "outputs": [
    {
     "data": {
      "text/plain": [
       "14323.9"
      ]
     },
     "execution_count": 5,
     "metadata": {},
     "output_type": "execute_result"
    }
   ],
   "source": [
    "radians_to_degrees(250)"
   ]
  },
  {
   "cell_type": "code",
   "execution_count": 6,
   "id": "dad6e909",
   "metadata": {},
   "outputs": [
    {
     "name": "stdout",
     "output_type": "stream",
     "text": [
      "True\n",
      "False\n",
      "True\n"
     ]
    }
   ],
   "source": [
    "#3)\n",
    "\n",
    "def is_curzon(num):\n",
    "    return (2 ** num + 1) % (2 * num + 1) == 0\n",
    "\n",
    "print(is_curzon(5))\n",
    "print(is_curzon(10))\n",
    "print(is_curzon(14))\n"
   ]
  },
  {
   "cell_type": "code",
   "execution_count": 7,
   "id": "f35e72ae",
   "metadata": {},
   "outputs": [
    {
     "name": "stdout",
     "output_type": "stream",
     "text": [
      "2.598076211353316\n",
      "10.392304845413264\n",
      "23.382685902179844\n"
     ]
    }
   ],
   "source": [
    "#4))\n",
    "\n",
    "import math\n",
    "\n",
    "def area_of_hexagon(x):\n",
    "    return (3 * math.sqrt(3) * x**2) / 2\n",
    "\n",
    "print(area_of_hexagon(1)) # 2.6\n",
    "print(area_of_hexagon(2)) # 10.4\n",
    "print(area_of_hexagon(3)) # 23.4\n"
   ]
  },
  {
   "cell_type": "code",
   "execution_count": 8,
   "id": "72b93b28",
   "metadata": {},
   "outputs": [],
   "source": [
    "#5)\n",
    "\n",
    "def binary(decimal):\n",
    "    binary = ''\n",
    "    while decimal > 0:\n",
    "        binary = str(decimal % 2) + binary\n",
    "        decimal = decimal // 2\n",
    "    return binary\n"
   ]
  },
  {
   "cell_type": "code",
   "execution_count": 9,
   "id": "0d0960de",
   "metadata": {},
   "outputs": [
    {
     "data": {
      "text/plain": [
       "'10100'"
      ]
     },
     "execution_count": 9,
     "metadata": {},
     "output_type": "execute_result"
    }
   ],
   "source": [
    "binary(20)"
   ]
  },
  {
   "cell_type": "code",
   "execution_count": null,
   "id": "97e920b8",
   "metadata": {},
   "outputs": [],
   "source": []
  }
 ],
 "metadata": {
  "kernelspec": {
   "display_name": "Python 3 (ipykernel)",
   "language": "python",
   "name": "python3"
  },
  "language_info": {
   "codemirror_mode": {
    "name": "ipython",
    "version": 3
   },
   "file_extension": ".py",
   "mimetype": "text/x-python",
   "name": "python",
   "nbconvert_exporter": "python",
   "pygments_lexer": "ipython3",
   "version": "3.9.7"
  }
 },
 "nbformat": 4,
 "nbformat_minor": 5
}
