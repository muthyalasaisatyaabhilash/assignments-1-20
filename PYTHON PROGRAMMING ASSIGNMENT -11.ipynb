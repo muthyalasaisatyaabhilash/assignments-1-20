{
 "cells": [
  {
   "cell_type": "markdown",
   "id": "836d66ae",
   "metadata": {},
   "source": [
    "# ASSIGNMENT-11"
   ]
  },
  {
   "cell_type": "markdown",
   "id": "c9347e93",
   "metadata": {},
   "source": [
    "1. Write a Python program to find words which are greater than given length k?"
   ]
  },
  {
   "cell_type": "code",
   "execution_count": 1,
   "id": "4d295814",
   "metadata": {},
   "outputs": [
    {
     "name": "stdout",
     "output_type": "stream",
     "text": [
      "Words longer than 5 characters: ['banana', 'cherry', 'elderberry']\n"
     ]
    }
   ],
   "source": [
    "def find_long_words(words, k):\n",
    "    long_words = []\n",
    "    for word in words:\n",
    "        if len(word) > k:\n",
    "            long_words.append(word)\n",
    "    return long_words\n",
    "\n",
    "words = [\"apple\", \"banana\", \"cherry\", \"date\", \"elderberry\"]\n",
    "k = 5\n",
    "long_words = find_long_words(words, k)\n",
    "\n",
    "print(\"Words longer than {} characters: {}\".format(k, long_words))\n"
   ]
  },
  {
   "cell_type": "markdown",
   "id": "0061a7f3",
   "metadata": {},
   "source": [
    "2. Write a Python program for removing i-th character from a string?"
   ]
  },
  {
   "cell_type": "code",
   "execution_count": 2,
   "id": "e2a0a7ab",
   "metadata": {},
   "outputs": [
    {
     "name": "stdout",
     "output_type": "stream",
     "text": [
      "Original string: Hello, world!\n",
      "String after removing 7-th character: Hello, orld!\n"
     ]
    }
   ],
   "source": [
    "def remove_ith_char(string, i):\n",
    "    return string[:i] + string[i+1:]\n",
    "\n",
    "string = \"Hello, world!\"\n",
    "i = 7\n",
    "new_string = remove_ith_char(string, i)\n",
    "\n",
    "print(\"Original string:\", string)\n",
    "print(\"String after removing {}-th character:\".format(i), new_string)\n"
   ]
  },
  {
   "cell_type": "markdown",
   "id": "ecc16c66",
   "metadata": {},
   "source": [
    "3. Write a Python program to split and join a string?"
   ]
  },
  {
   "cell_type": "code",
   "execution_count": 3,
   "id": "4521da35",
   "metadata": {},
   "outputs": [
    {
     "name": "stdout",
     "output_type": "stream",
     "text": [
      "Original string: Hello, world!\n",
      "String after splitting and joining: Hello, world!\n"
     ]
    }
   ],
   "source": [
    "def split_and_join(string, separator):\n",
    "    words = string.split(separator)\n",
    "    new_string = separator.join(words)\n",
    "    return new_string\n",
    "\n",
    "string = \"Hello, world!\"\n",
    "separator = \" \"\n",
    "new_string = split_and_join(string, separator)\n",
    "\n",
    "print(\"Original string:\", string)\n",
    "print(\"String after splitting and joining:\", new_string)\n"
   ]
  },
  {
   "cell_type": "markdown",
   "id": "d8a3b982",
   "metadata": {},
   "source": [
    "4. Write a Python to check if a given string is binary string or not?"
   ]
  },
  {
   "cell_type": "code",
   "execution_count": 4,
   "id": "8f3a84fc",
   "metadata": {},
   "outputs": [
    {
     "name": "stdout",
     "output_type": "stream",
     "text": [
      "The string is a binary string.\n"
     ]
    }
   ],
   "source": [
    "def is_binary_string(string):\n",
    "    for char in string:\n",
    "        if char != '0' and char != '1':\n",
    "            return False\n",
    "    return True\n",
    "\n",
    "string = \"10101\"\n",
    "result = is_binary_string(string)\n",
    "\n",
    "if result:\n",
    "    print(\"The string is a binary string.\")\n",
    "else:\n",
    "    print(\"The string is not a binary string.\")\n"
   ]
  },
  {
   "cell_type": "markdown",
   "id": "2551bd56",
   "metadata": {},
   "source": [
    "5. Write a Python program to find uncommon words from two Strings?"
   ]
  },
  {
   "cell_type": "code",
   "execution_count": 5,
   "id": "c86c1818",
   "metadata": {},
   "outputs": [
    {
     "name": "stdout",
     "output_type": "stream",
     "text": [
      "Uncommon words: ['Hello,', 'Goodbye,']\n"
     ]
    }
   ],
   "source": [
    "def uncommon_words(string1, string2):\n",
    "    words1 = string1.split()\n",
    "    words2 = string2.split()\n",
    "    set1 = set(words1)\n",
    "    set2 = set(words2)\n",
    "    return list(set1.difference(set2).union(set2.difference(set1)))\n",
    "\n",
    "string1 = \"Hello, world!\"\n",
    "string2 = \"Goodbye, world!\"\n",
    "uncommon_words = uncommon_words(string1, string2)\n",
    "\n",
    "print(\"Uncommon words:\", uncommon_words)\n"
   ]
  },
  {
   "cell_type": "markdown",
   "id": "70d64fb1",
   "metadata": {},
   "source": [
    "6. Write a Python to find all duplicate characters in string?"
   ]
  },
  {
   "cell_type": "code",
   "execution_count": 7,
   "id": "4cf06884",
   "metadata": {},
   "outputs": [
    {
     "name": "stdout",
     "output_type": "stream",
     "text": [
      "Duplicate characters: ['l', 'o']\n"
     ]
    }
   ],
   "source": [
    "def find_duplicates(string):\n",
    "    duplicates = []\n",
    "    for char in string:\n",
    "        if string.count(char) > 1 and char not in duplicates:\n",
    "            duplicates.append(char)\n",
    "    return duplicates\n",
    "\n",
    "string = \"Hello, world!\"\n",
    "duplicates = find_duplicates(string)\n",
    "\n",
    "print(\"Duplicate characters:\", duplicates)\n"
   ]
  },
  {
   "cell_type": "markdown",
   "id": "68e352cf",
   "metadata": {},
   "source": [
    "7. Write a Python Program to check if a string contains any special character?"
   ]
  },
  {
   "cell_type": "code",
   "execution_count": 8,
   "id": "36ab000c",
   "metadata": {},
   "outputs": [
    {
     "name": "stdout",
     "output_type": "stream",
     "text": [
      "The string contains special characters.\n"
     ]
    }
   ],
   "source": [
    "import re\n",
    "\n",
    "def has_special_char(string):\n",
    "    pattern = '[^a-zA-Z0-9]+'\n",
    "    return bool(re.search(pattern, string))\n",
    "\n",
    "string = \"Hello, world!\"\n",
    "result = has_special_char(string)\n",
    "\n",
    "if result:\n",
    "    print(\"The string contains special characters.\")\n",
    "else:\n",
    "    print(\"The string does not contain special characters.\")\n"
   ]
  },
  {
   "cell_type": "code",
   "execution_count": null,
   "id": "73678d2a",
   "metadata": {},
   "outputs": [],
   "source": []
  }
 ],
 "metadata": {
  "kernelspec": {
   "display_name": "Python 3 (ipykernel)",
   "language": "python",
   "name": "python3"
  },
  "language_info": {
   "codemirror_mode": {
    "name": "ipython",
    "version": 3
   },
   "file_extension": ".py",
   "mimetype": "text/x-python",
   "name": "python",
   "nbconvert_exporter": "python",
   "pygments_lexer": "ipython3",
   "version": "3.11.1"
  }
 },
 "nbformat": 4,
 "nbformat_minor": 5
}
