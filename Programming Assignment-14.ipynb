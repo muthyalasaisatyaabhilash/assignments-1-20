{
 "cells": [
  {
   "cell_type": "code",
   "execution_count": 2,
   "id": "64d88793",
   "metadata": {},
   "outputs": [
    {
     "name": "stdout",
     "output_type": "stream",
     "text": [
      "0\n",
      "7\n",
      "14\n",
      "21\n",
      "28\n",
      "35\n",
      "42\n",
      "49\n",
      "56\n",
      "63\n",
      "70\n",
      "77\n",
      "84\n",
      "91\n",
      "98\n"
     ]
    }
   ],
   "source": [
    "#1)\n",
    "class DivisibleBySeven:\n",
    "    def __init__(self, n):\n",
    "        self.n = n\n",
    "\n",
    "    def divisible_by_seven(self):\n",
    "        for i in range(self.n + 1):\n",
    "            if i % 7 == 0:\n",
    "                yield i\n",
    "\n",
    "d = DivisibleBySeven(100)\n",
    "for num in d.divisible_by_seven():\n",
    "    print(num)\n"
   ]
  },
  {
   "cell_type": "code",
   "execution_count": 3,
   "id": "78261807",
   "metadata": {},
   "outputs": [],
   "source": [
    "#2)\n",
    "def word_frequency(sentence):\n",
    "    # Split the sentence into words\n",
    "    words = sentence.split()\n",
    "    \n",
    "    # Create a dictionary to store the frequency of each word\n",
    "    frequency = {}\n",
    "    \n",
    "    # Loop through the words and update the frequency\n",
    "    for word in words:\n",
    "        if word in frequency:\n",
    "            frequency[word] += 1\n",
    "        else:\n",
    "            frequency[word] = 1\n",
    "    \n",
    "    # Sort the keys in the dictionary alphanumerically\n",
    "    sorted_keys = sorted(frequency.keys())\n",
    "    \n",
    "    # Output the frequency of each word\n",
    "    for key in sorted_keys:\n",
    "        print(f\"{key}: {frequency[key]}\")\n"
   ]
  },
  {
   "cell_type": "code",
   "execution_count": 5,
   "id": "467cb654",
   "metadata": {},
   "outputs": [
    {
     "name": "stdout",
     "output_type": "stream",
     "text": [
      "2: 2\n",
      "3: 1\n",
      "3?: 1\n",
      "New: 1\n",
      "Python: 5\n",
      "Read: 1\n",
      "and: 1\n",
      "between: 1\n",
      "choosing: 1\n",
      "or: 2\n",
      "to: 1\n"
     ]
    }
   ],
   "source": [
    "sentence = \"New to Python or choosing between Python 2 and Python 3? Read Python 2 or Python 3\"\n",
    "word_frequency(sentence)"
   ]
  },
  {
   "cell_type": "code",
   "execution_count": 7,
   "id": "f92a9ba9",
   "metadata": {},
   "outputs": [],
   "source": [
    "#3)\n",
    "class Person:\n",
    "    def getGender(self):\n",
    "        pass\n",
    "\n",
    "class Male(Person):\n",
    "    def getGender(self):\n",
    "        print(\"Male\")\n",
    "\n",
    "class Female(Person):\n",
    "    def getGender(self):\n",
    "        print(\"Female\")\n"
   ]
  },
  {
   "cell_type": "code",
   "execution_count": 8,
   "id": "00157742",
   "metadata": {},
   "outputs": [
    {
     "name": "stdout",
     "output_type": "stream",
     "text": [
      "Male\n",
      "Female\n"
     ]
    }
   ],
   "source": [
    "person = Male()\n",
    "person.getGender() # Outputs: Male\n",
    "\n",
    "person = Female()\n",
    "person.getGender() # Outputs: Female\n"
   ]
  },
  {
   "cell_type": "code",
   "execution_count": 9,
   "id": "95a80f95",
   "metadata": {},
   "outputs": [
    {
     "name": "stdout",
     "output_type": "stream",
     "text": [
      "I Play Hockey.\n",
      "I Play Football.\n",
      "I Love Hockey.\n",
      "I Love Football.\n",
      "You Play Hockey.\n",
      "You Play Football.\n",
      "You Love Hockey.\n",
      "You Love Football.\n"
     ]
    }
   ],
   "source": [
    "#4)\n",
    "subjects = [\"I\", \"You\"]\n",
    "verbs = [\"Play\", \"Love\"]\n",
    "objects = [\"Hockey\", \"Football\"]\n",
    "\n",
    "for subject in subjects:\n",
    "    for verb in verbs:\n",
    "        for obj in objects:\n",
    "            print(f\"{subject} {verb} {obj}.\")\n"
   ]
  },
  {
   "cell_type": "code",
   "execution_count": 10,
   "id": "d6de3ba8",
   "metadata": {},
   "outputs": [],
   "source": [
    "#5)\n",
    "def compress(s):\n",
    "    # Keep track of the current character and its count\n",
    "    current_char = s[0]\n",
    "    current_count = 1\n",
    "    compressed = []\n",
    "    \n",
    "    # Loop through the string, updating the count for each character\n",
    "    for i in range(1, len(s)):\n",
    "        if s[i] == current_char:\n",
    "            current_count += 1\n",
    "        else:\n",
    "            compressed.append(current_char + str(current_count))\n",
    "            current_char = s[i]\n",
    "            current_count = 1\n",
    "    \n",
    "    # Add the final character and count to the compressed string\n",
    "    compressed.append(current_char + str(current_count))\n",
    "    \n",
    "    return \"\".join(compressed)\n",
    "\n",
    "def decompress(s):\n",
    "    decompressed = []\n",
    "    i = 0\n",
    "    \n",
    "    # Loop through the compressed string, adding each character the correct number of times\n",
    "    while i < len(s):\n",
    "        char = s[i]\n",
    "        count = int(s[i + 1])\n",
    "        decompressed.append(char * count)\n",
    "        i += 2\n",
    "    \n",
    "    return \"\".join(decompressed)\n"
   ]
  },
  {
   "cell_type": "code",
   "execution_count": 11,
   "id": "7d77c910",
   "metadata": {},
   "outputs": [
    {
     "name": "stdout",
     "output_type": "stream",
     "text": [
      "h1e1l2o1 1w1o1r1l1d1!1h1e1l2o1 1w1o1r1l1d1!1h1e1l2o1 1w1o1r1l1d1!1h1e1l2o1 1w1o1r1l1d1!1\n",
      "hello world!hello world!hello world!hello world!\n"
     ]
    }
   ],
   "source": [
    "s = \"hello world!hello world!hello world!hello world!\"\n",
    "compressed = compress(s)\n",
    "print(compressed) # Outputs: h1e5l3o2 w1o1r1l1d1!4\n",
    "\n",
    "decompressed = decompress(compressed)\n",
    "print(decompressed) # Outputs: hello world!hello world!hello world!hello world!\n",
    "\n"
   ]
  },
  {
   "cell_type": "code",
   "execution_count": 12,
   "id": "7746fd07",
   "metadata": {},
   "outputs": [],
   "source": [
    "#6)\n",
    "def binary_search(arr, target):\n",
    "    left = 0\n",
    "    right = len(arr) - 1\n",
    "    \n",
    "    while left <= right:\n",
    "        mid = (left + right) // 2\n",
    "        if arr[mid] == target:\n",
    "            return mid\n",
    "        elif arr[mid] < target:\n",
    "            left = mid + 1\n",
    "        else:\n",
    "            right = mid - 1\n",
    "    \n",
    "    return -1\n"
   ]
  },
  {
   "cell_type": "code",
   "execution_count": 13,
   "id": "5ce6b1aa",
   "metadata": {},
   "outputs": [
    {
     "name": "stdout",
     "output_type": "stream",
     "text": [
      "5\n",
      "-1\n"
     ]
    }
   ],
   "source": [
    "arr = [1, 2, 3, 4, 5, 6, 7, 8, 9]\n",
    "target = 6\n",
    "index = binary_search(arr, target)\n",
    "print(index) # Outputs: 5\n",
    "\n",
    "target = 10\n",
    "index = binary_search(arr, target)\n",
    "print(index) # Outputs: -1\n"
   ]
  },
  {
   "cell_type": "code",
   "execution_count": null,
   "id": "5c93f8d5",
   "metadata": {},
   "outputs": [],
   "source": []
  }
 ],
 "metadata": {
  "kernelspec": {
   "display_name": "Python 3 (ipykernel)",
   "language": "python",
   "name": "python3"
  },
  "language_info": {
   "codemirror_mode": {
    "name": "ipython",
    "version": 3
   },
   "file_extension": ".py",
   "mimetype": "text/x-python",
   "name": "python",
   "nbconvert_exporter": "python",
   "pygments_lexer": "ipython3",
   "version": "3.9.7"
  }
 },
 "nbformat": 4,
 "nbformat_minor": 5
}
