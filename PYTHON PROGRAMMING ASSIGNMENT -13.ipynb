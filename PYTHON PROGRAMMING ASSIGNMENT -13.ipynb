{
 "cells": [
  {
   "cell_type": "markdown",
   "id": "1363d7bd",
   "metadata": {},
   "source": [
    "# ASSIGNMENT-13"
   ]
  },
  {
   "cell_type": "markdown",
   "id": "791b8b03",
   "metadata": {},
   "source": [
    "Write a program that calculates and prints the value according to the given formula:\n",
    "Q = Square root of [(2 * C * D)/H]\n",
    "Following are the fixed values of C and H:\n",
    "C is 50. H is 30.\n",
    "D is the variable whose values should be input to your program in a comma-separated\n",
    "sequence.\n",
    "Example\n",
    "Let us assume the following comma separated input sequence is given to the program:\n",
    "100,150,180\n",
    "The output of the program should be:\n",
    "18,22,24\n"
   ]
  },
  {
   "cell_type": "code",
   "execution_count": 2,
   "id": "6e578d53",
   "metadata": {},
   "outputs": [
    {
     "name": "stdout",
     "output_type": "stream",
     "text": [
      "Enter a comma-separated list of values for D: 100,150,180\n",
      "The output values for Q are: [18, 22, 24]\n"
     ]
    }
   ],
   "source": [
    "import math\n",
    "\n",
    "C = 50\n",
    "H = 30\n",
    "\n",
    "def calculate_Q(D):\n",
    "    return int(math.sqrt((2 * C * D) / H))\n",
    "\n",
    "input_values = input(\"Enter a comma-separated list of values for D: \")\n",
    "D_values = [int(x) for x in input_values.split(\",\")]\n",
    "\n",
    "Q_values = [calculate_Q(D) for D in D_values]\n",
    "\n",
    "print(\"The output values for Q are:\", Q_values)\n"
   ]
  },
  {
   "cell_type": "markdown",
   "id": "6c5c8bde",
   "metadata": {},
   "source": [
    "2)Write a program which takes 2 digits, X,Y as input and generates a 2-dimensional array. The\n",
    "element value in the i-th row and j-th column of the array should be i*j.\n",
    "Note: i=0,1.., X-1; j=0,1,¡Y-1.\n",
    "Example\n",
    "Suppose the following inputs are given to the program:\n",
    "3,5\n",
    "Then, the output of the program should be:\n",
    "[[0, 0, 0, 0, 0], [0, 1, 2, 3, 4], [0, 2, 4, 6, 8]]"
   ]
  },
  {
   "cell_type": "code",
   "execution_count": 3,
   "id": "283c3940",
   "metadata": {},
   "outputs": [
    {
     "name": "stdout",
     "output_type": "stream",
     "text": [
      "Enter the value of X and Y, separated by comma: 3,5\n",
      "Result: [[0, 0, 0, 0, 0], [0, 1, 2, 3, 4], [0, 2, 4, 6, 8]]\n"
     ]
    }
   ],
   "source": [
    "def generate_2d_array(x, y):\n",
    "    result = []\n",
    "    for i in range(x):\n",
    "        row = []\n",
    "        for j in range(y):\n",
    "            row.append(i*j)\n",
    "        result.append(row)\n",
    "    return result\n",
    "\n",
    "x, y = map(int, input(\"Enter the value of X and Y, separated by comma: \").split(','))\n",
    "print(\"Result:\", generate_2d_array(x, y))\n"
   ]
  },
  {
   "cell_type": "markdown",
   "id": "496edb80",
   "metadata": {},
   "source": [
    "3)Write a program that accepts a comma separated sequence of words as input and prints the\n",
    "words in a comma-separated sequence after sorting them alphabetically.\n",
    "Suppose the following input is supplied to the program:\n",
    "without,hello,bag,world\n",
    "Then, the output should be:\n",
    "bag,hello,without,world"
   ]
  },
  {
   "cell_type": "code",
   "execution_count": 4,
   "id": "d7bac98d",
   "metadata": {},
   "outputs": [
    {
     "name": "stdout",
     "output_type": "stream",
     "text": [
      "Enter a comma-separated sequence of words: without,hello,bag,world\n",
      "The sorted words are: bag,hello,without,world\n"
     ]
    }
   ],
   "source": [
    "def sort_words(words):\n",
    "    words = words.split(',')\n",
    "    words.sort()\n",
    "    return ','.join(words)\n",
    "\n",
    "input_words = input(\"Enter a comma-separated sequence of words: \")\n",
    "sorted_words = sort_words(input_words)\n",
    "\n",
    "print(\"The sorted words are:\", sorted_words)\n"
   ]
  },
  {
   "cell_type": "markdown",
   "id": "04591949",
   "metadata": {},
   "source": [
    "4)Write a program that accepts a sequence of whitespace separated words as input and prints\n",
    "the words after removing all duplicate words and sorting them alphanumerically.\n",
    "Suppose the following input is supplied to the program:\n",
    "hello world and practice makes perfect and hello world again\n",
    "Then, the output should be:\n",
    "again and hello makes perfect practice world"
   ]
  },
  {
   "cell_type": "code",
   "execution_count": 5,
   "id": "b428a788",
   "metadata": {},
   "outputs": [
    {
     "name": "stdout",
     "output_type": "stream",
     "text": [
      "again and hello makes perfect practice world\n"
     ]
    }
   ],
   "source": [
    "def remove_duplicates_and_sort(input_string):\n",
    "    words = input_string.split()\n",
    "    unique_words = set(words)\n",
    "    sorted_words = sorted(unique_words)\n",
    "    return ' '.join(sorted_words)\n",
    "\n",
    "input_string = \"hello world and practice makes perfect and hello world again\"\n",
    "output = remove_duplicates_and_sort(input_string)\n",
    "print(output)\n"
   ]
  },
  {
   "cell_type": "markdown",
   "id": "bfeb24f2",
   "metadata": {},
   "source": [
    "5)Write a program that accepts a sentence and calculate the number of letters and digits.\n",
    "Suppose the following input is supplied to the program:\n",
    "hello world! 123\n",
    "Then, the output should be:\n",
    "LETTERS 10\n",
    "\n",
    "DIGITS 3"
   ]
  },
  {
   "cell_type": "code",
   "execution_count": 6,
   "id": "a7e3995c",
   "metadata": {},
   "outputs": [
    {
     "name": "stdout",
     "output_type": "stream",
     "text": [
      "Enter a sentence: LETTERS 10\n",
      "LETTERS 7\n",
      "DIGITS 2\n"
     ]
    }
   ],
   "source": [
    "sentence = input(\"Enter a sentence: \")\n",
    "letters = 0\n",
    "digits = 0\n",
    "for char in sentence:\n",
    "    if char.isalpha():\n",
    "        letters += 1\n",
    "    elif char.isdigit():\n",
    "        digits += 1\n",
    "print(\"LETTERS\", letters)\n",
    "print(\"DIGITS\", digits)\n"
   ]
  },
  {
   "cell_type": "markdown",
   "id": "552a9aac",
   "metadata": {},
   "source": [
    "6)A website requires the users to input username and password to register. Write a program to\n",
    "check the validity of password input by users.\n",
    "Following are the criteria for checking the password:\n",
    "1. At least 1 letter between [a-z]\n",
    "2. At least 1 number between [0-9]\n",
    "1. At least 1 letter between [A-Z]\n",
    "3. At least 1 character from [$#@]\n",
    "4. Minimum length of transaction password: 6\n",
    "5. Maximum length of transaction password: 12\n",
    "Your program should accept a sequence of comma separated passwords and will check them\n",
    "according to the above criteria. Passwords that match the criteria are to be printed, each\n",
    "separated by a comma.\n",
    "Example\n",
    "If the following passwords are given as input to the program:\n",
    "ABd1234@1,a F1#,2w3E*,2We3345\n",
    "Then, the output of the program should be:\n",
    "ABd1234@1"
   ]
  },
  {
   "cell_type": "code",
   "execution_count": 7,
   "id": "823a852b",
   "metadata": {},
   "outputs": [
    {
     "name": "stdout",
     "output_type": "stream",
     "text": [
      "Enter a sequence of comma separated passwords: ABd1234@1,a F1#,2w3E*,2We3345\n",
      "Valid passwords: ABd1234@1\n"
     ]
    }
   ],
   "source": [
    "def check_valid_password(passwords):\n",
    "    valid_passwords = []\n",
    "    for password in passwords:\n",
    "        if len(password) >= 6 and len(password) <= 12:\n",
    "            if any(char.islower() for char in password):\n",
    "                if any(char.isupper() for char in password):\n",
    "                    if any(char.isdigit() for char in password):\n",
    "                        if any(char in \"$#@\" for char in password):\n",
    "                            valid_passwords.append(password)\n",
    "    return valid_passwords\n",
    "\n",
    "passwords = input(\"Enter a sequence of comma separated passwords: \").split(',')\n",
    "valid_passwords = check_valid_password(passwords)\n",
    "if valid_passwords:\n",
    "    print(\"Valid passwords:\", ', '.join(valid_passwords))\n",
    "else:\n",
    "    print(\"No valid password found.\")\n"
   ]
  },
  {
   "cell_type": "code",
   "execution_count": null,
   "id": "17637908",
   "metadata": {},
   "outputs": [],
   "source": []
  }
 ],
 "metadata": {
  "kernelspec": {
   "display_name": "Python 3 (ipykernel)",
   "language": "python",
   "name": "python3"
  },
  "language_info": {
   "codemirror_mode": {
    "name": "ipython",
    "version": 3
   },
   "file_extension": ".py",
   "mimetype": "text/x-python",
   "name": "python",
   "nbconvert_exporter": "python",
   "pygments_lexer": "ipython3",
   "version": "3.11.1"
  }
 },
 "nbformat": 4,
 "nbformat_minor": 5
}
