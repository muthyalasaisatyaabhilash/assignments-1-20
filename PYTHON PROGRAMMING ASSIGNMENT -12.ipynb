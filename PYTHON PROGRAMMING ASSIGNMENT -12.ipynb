{
 "cells": [
  {
   "cell_type": "markdown",
   "id": "02aacad6",
   "metadata": {},
   "source": [
    "# ASSIGNMENT-12"
   ]
  },
  {
   "cell_type": "markdown",
   "id": "d71a495b",
   "metadata": {},
   "source": [
    "1. Write a Python program to Extract Unique values dictionary values?"
   ]
  },
  {
   "cell_type": "code",
   "execution_count": 1,
   "id": "b5c7fe86",
   "metadata": {},
   "outputs": [
    {
     "name": "stdout",
     "output_type": "stream",
     "text": [
      "Unique values: [1, 2, 3]\n"
     ]
    }
   ],
   "source": [
    "def unique_values(dictionary):\n",
    "    return list(set(dictionary.values()))\n",
    "\n",
    "dictionary = {\"a\": 1, \"b\": 2, \"c\": 3, \"d\": 2}\n",
    "unique_values = unique_values(dictionary)\n",
    "\n",
    "print(\"Unique values:\", unique_values)\n"
   ]
  },
  {
   "cell_type": "markdown",
   "id": "17da4a67",
   "metadata": {},
   "source": [
    "2. Write a Python program to find the sum of all items in a dictionary?"
   ]
  },
  {
   "cell_type": "code",
   "execution_count": 2,
   "id": "a9d06b78",
   "metadata": {},
   "outputs": [
    {
     "name": "stdout",
     "output_type": "stream",
     "text": [
      "Sum of all items in the dictionary: 10\n"
     ]
    }
   ],
   "source": [
    "def sum_dict(dictionary):\n",
    "    return sum(dictionary.values())\n",
    "\n",
    "dictionary = {\"a\": 1, \"b\": 2, \"c\": 3, \"d\": 4}\n",
    "total_sum = sum_dict(dictionary)\n",
    "\n",
    "print(\"Sum of all items in the dictionary:\", total_sum)\n"
   ]
  },
  {
   "cell_type": "markdown",
   "id": "dd915e00",
   "metadata": {},
   "source": [
    "3. Write a Python program to Merging two Dictionaries?"
   ]
  },
  {
   "cell_type": "code",
   "execution_count": 3,
   "id": "3a6db2c8",
   "metadata": {},
   "outputs": [
    {
     "name": "stdout",
     "output_type": "stream",
     "text": [
      "Merged dictionary: {'a': 1, 'b': 2, 'c': 3, 'd': 4}\n"
     ]
    }
   ],
   "source": [
    "def merge_dicts(dict1, dict2):\n",
    "    return {**dict1, **dict2}\n",
    "\n",
    "dict1 = {\"a\": 1, \"b\": 2}\n",
    "dict2 = {\"c\": 3, \"d\": 4}\n",
    "merged_dict = merge_dicts(dict1, dict2)\n",
    "\n",
    "print(\"Merged dictionary:\", merged_dict)\n"
   ]
  },
  {
   "cell_type": "markdown",
   "id": "987c3a1f",
   "metadata": {},
   "source": [
    "4. Write a Python program to convert key-values list to flat dictionary?"
   ]
  },
  {
   "cell_type": "code",
   "execution_count": 4,
   "id": "f430aba6",
   "metadata": {},
   "outputs": [
    {
     "name": "stdout",
     "output_type": "stream",
     "text": [
      "Flat dictionary: {'a': 1, 'b': 2, 'c': 3, 'd': 4}\n"
     ]
    }
   ],
   "source": [
    "def convert_to_dict(key_values):\n",
    "    return {key: value for key, value in key_values}\n",
    "\n",
    "key_values = [(\"a\", 1), (\"b\", 2), (\"c\", 3), (\"d\", 4)]\n",
    "flat_dict = convert_to_dict(key_values)\n",
    "\n",
    "print(\"Flat dictionary:\", flat_dict)\n"
   ]
  },
  {
   "cell_type": "markdown",
   "id": "e41d6170",
   "metadata": {},
   "source": [
    "5. Write a Python program to insertion at the beginning in OrderedDict?"
   ]
  },
  {
   "cell_type": "code",
   "execution_count": 7,
   "id": "518c40f4",
   "metadata": {},
   "outputs": [
    {
     "name": "stdout",
     "output_type": "stream",
     "text": [
      "Ordered dictionary after insertion: OrderedDict([('d', 4), ('a', 1), ('b', 2), ('c', 3)])\n"
     ]
    }
   ],
   "source": [
    "from collections import OrderedDict\n",
    "\n",
    "def insert_beginning(ordered_dict, key, value):\n",
    "    ordered_dict[key] = value\n",
    "    ordered_dict.move_to_end(key, last=False)\n",
    "\n",
    "ordered_dict = OrderedDict({\"a\": 1, \"b\": 2, \"c\": 3})\n",
    "insert_beginning(ordered_dict, \"d\", 4)\n",
    "\n",
    "print(\"Ordered dictionary after insertion:\", ordered_dict)\n"
   ]
  },
  {
   "cell_type": "markdown",
   "id": "4f08405e",
   "metadata": {},
   "source": [
    "6. Write a Python program to check order of character in string using OrderedDict()?"
   ]
  },
  {
   "cell_type": "code",
   "execution_count": 8,
   "id": "30c2d20d",
   "metadata": {},
   "outputs": [
    {
     "name": "stdout",
     "output_type": "stream",
     "text": [
      "The order of characters in the string is:\n",
      "p 1\n",
      "y 1\n",
      "t 1\n",
      "h 1\n",
      "o 1\n",
      "n 1\n"
     ]
    }
   ],
   "source": [
    "from collections import OrderedDict\n",
    "\n",
    "def check_order(string):\n",
    "    char_dict = OrderedDict()\n",
    "    for char in string:\n",
    "        if char in char_dict:\n",
    "            char_dict[char] += 1\n",
    "        else:\n",
    "            char_dict[char] = 1\n",
    "    \n",
    "    return char_dict\n",
    "\n",
    "string = \"python\"\n",
    "char_dict = check_order(string)\n",
    "\n",
    "print(\"The order of characters in the string is:\")\n",
    "for key, value in char_dict.items():\n",
    "    print(key, value)\n"
   ]
  },
  {
   "cell_type": "markdown",
   "id": "adb93494",
   "metadata": {},
   "source": [
    "7. Write a Python program to sort Python Dictionaries by Key or Value?"
   ]
  },
  {
   "cell_type": "code",
   "execution_count": 9,
   "id": "06e95d4c",
   "metadata": {},
   "outputs": [
    {
     "name": "stdout",
     "output_type": "stream",
     "text": [
      "Dictionary sorted by key: {'a': 1, 'b': 2, 'c': 3}\n"
     ]
    }
   ],
   "source": [
    "def sort_dict_by_key(dictionary):\n",
    "    sorted_dict = dict(sorted(dictionary.items()))\n",
    "    return sorted_dict\n",
    "\n",
    "dictionary = {\"c\": 3, \"a\": 1, \"b\": 2}\n",
    "sorted_dict = sort_dict_by_key(dictionary)\n",
    "\n",
    "print(\"Dictionary sorted by key:\", sorted_dict)\n"
   ]
  },
  {
   "cell_type": "code",
   "execution_count": null,
   "id": "e2dc9276",
   "metadata": {},
   "outputs": [],
   "source": []
  }
 ],
 "metadata": {
  "kernelspec": {
   "display_name": "Python 3 (ipykernel)",
   "language": "python",
   "name": "python3"
  },
  "language_info": {
   "codemirror_mode": {
    "name": "ipython",
    "version": 3
   },
   "file_extension": ".py",
   "mimetype": "text/x-python",
   "name": "python",
   "nbconvert_exporter": "python",
   "pygments_lexer": "ipython3",
   "version": "3.11.1"
  }
 },
 "nbformat": 4,
 "nbformat_minor": 5
}
