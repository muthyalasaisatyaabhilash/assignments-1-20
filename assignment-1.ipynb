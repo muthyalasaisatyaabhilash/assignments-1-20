{
 "cells": [
  {
   "cell_type": "code",
   "execution_count": 1,
   "id": "983a57ca",
   "metadata": {},
   "outputs": [],
   "source": [
    "#1A) oops stands for object orienterd programming.It uses the classes and objects in programming,\n",
    "#    to implement the real world entite like  inheritance, polymorphisms, encapsulation"
   ]
  },
  {
   "cell_type": "code",
   "execution_count": 2,
   "id": "23dd25f1",
   "metadata": {},
   "outputs": [],
   "source": [
    "#2A) The whole point of a namespace tool like the class statement is to support name inheritance. \n",
    "#    In Python, inheritance happens when an object is qualified, and involves searching an attribute "
   ]
  },
  {
   "cell_type": "code",
   "execution_count": 3,
   "id": "41a8fd51",
   "metadata": {},
   "outputs": [],
   "source": [
    "#3A) instance object:it is used for hold the memory address of the object\n",
    "#    class: A class is a template for creating objects in program\n",
    "#    object: . An object is the instance of the class,"
   ]
  },
  {
   "cell_type": "code",
   "execution_count": 7,
   "id": "3974c2e1",
   "metadata": {},
   "outputs": [
    {
     "name": "stdout",
     "output_type": "stream",
     "text": [
      "Address of self =  2176563892288\n",
      "Address of class object =  2176563892288\n"
     ]
    }
   ],
   "source": [
    "#4A) This is the reason the first parameter of a function in class must be the object itself\n",
    "#     Writing this parameter as self is merely a convention\n",
    "class check:\n",
    "    def __init__(self):\n",
    "        print(\"Address of self = \",id(self))\n",
    " \n",
    "obj = check()\n",
    "print(\"Address of class object = \",id(obj))"
   ]
  },
  {
   "cell_type": "code",
   "execution_count": null,
   "id": "8cc294eb",
   "metadata": {},
   "outputs": [],
   "source": [
    "#5A) It  the class initialize the object's attributes and serves no other purpose. It is only used within classes\n"
   ]
  },
  {
   "cell_type": "code",
   "execution_count": 8,
   "id": "d7b1c212",
   "metadata": {},
   "outputs": [],
   "source": [
    "#6A) In the initialization method {__init__()} that Python calls when you create a new instance of this class is created"
   ]
  },
  {
   "cell_type": "code",
   "execution_count": 15,
   "id": "b86c57f5",
   "metadata": {},
   "outputs": [],
   "source": [
    "#7A) Create a Class. To create a class, use the keyword class \n"
   ]
  },
  {
   "cell_type": "code",
   "execution_count": null,
   "id": "290db0e4",
   "metadata": {},
   "outputs": [],
   "source": [
    "#8A) The class from which a class inherits is called the parent or superclass.\n",
    "#     A class which inherits from a superclass is called a subclass"
   ]
  }
 ],
 "metadata": {
  "kernelspec": {
   "display_name": "Python 3 (ipykernel)",
   "language": "python",
   "name": "python3"
  },
  "language_info": {
   "codemirror_mode": {
    "name": "ipython",
    "version": 3
   },
   "file_extension": ".py",
   "mimetype": "text/x-python",
   "name": "python",
   "nbconvert_exporter": "python",
   "pygments_lexer": "ipython3",
   "version": "3.9.12"
  }
 },
 "nbformat": 4,
 "nbformat_minor": 5
}
